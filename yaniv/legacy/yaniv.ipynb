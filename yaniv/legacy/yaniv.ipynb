{
 "cells": [
  {
   "cell_type": "markdown",
   "metadata": {},
   "source": [
    "**Yaniv**\n",
    "\n",
    "Simulating the card game\n",
    "\n",
    "\n",
    "Components:  \n",
    "(1) Players  \n",
    "(2) Cards  "
   ]
  },
  {
   "cell_type": "code",
   "execution_count": 1,
   "metadata": {
    "ExecuteTime": {
     "end_time": "2018-10-24T07:12:32.961763Z",
     "start_time": "2018-10-24T07:12:32.945534Z"
    }
   },
   "outputs": [],
   "source": [
    "%load_ext autoreload\n",
    "%autoreload 2"
   ]
  },
  {
   "cell_type": "code",
   "execution_count": 2,
   "metadata": {
    "ExecuteTime": {
     "end_time": "2018-10-24T07:12:33.481581Z",
     "start_time": "2018-10-24T07:12:33.398881Z"
    }
   },
   "outputs": [],
   "source": [
    "import sys\n",
    "sys.path.append('/Users/eyalkazin/Work/projects/personal/yaniv/yaniv/')\n",
    "\n",
    "import yaniv"
   ]
  },
  {
   "cell_type": "code",
   "execution_count": 3,
   "metadata": {
    "ExecuteTime": {
     "end_time": "2018-10-24T07:12:34.316002Z",
     "start_time": "2018-10-24T07:12:34.295135Z"
    }
   },
   "outputs": [
    {
     "data": {
      "text/plain": [
       "<yaniv.Player at 0x10dfb19e8>"
      ]
     },
     "execution_count": 3,
     "metadata": {},
     "output_type": "execute_result"
    }
   ],
   "source": [
    "yaniv.Player('michal')"
   ]
  },
  {
   "cell_type": "code",
   "execution_count": 17,
   "metadata": {
    "ExecuteTime": {
     "end_time": "2018-10-24T07:31:02.842102Z",
     "start_time": "2018-10-24T07:31:02.505500Z"
    }
   },
   "outputs": [
    {
     "name": "stdout",
     "output_type": "stream",
     "text": [
      "michal\n",
      "eyal\n",
      "====================\n",
      "Round: 1\n",
      "Starting player: michal\n",
      "eyal declared Yaniv with 6\n",
      "michal 9 ['d2' 'joker1' 'cA' 'h3' 's3'] 9\n",
      "eyal 0 ['s2' 'sA' 'joker2' 'dA' 'c2'] 0\n",
      "====================\n",
      "Round: 2\n",
      "Starting player: eyal\n",
      "eyal declared Yaniv with 5\n",
      "michal 23 ['h5' 's5' 'h4' 'd3' 'd6'] 32\n",
      "eyal 0 ['joker2' 's2' 'joker1' 'h2' 'cA'] 0\n",
      "====================\n",
      "Round: 3\n",
      "Starting player: eyal\n",
      "michal declared Yaniv with 7\n",
      "michal 0 ['joker2' 's2' 'h2' 'cA' 'd2'] 32\n",
      "eyal 18 ['c4' 'c2' 's4' 'h3' 'h5'] 18\n",
      "====================\n",
      "Round: 4\n",
      "Starting player: michal\n",
      "eyal declared Yaniv with 6\n",
      "michal 17 ['s4' 'c5' 'h5' 'dA' 'd2'] 49\n",
      "eyal 0 ['joker2' 'joker1' 'cA' 'c2' 's3'] 18\n",
      "====================\n",
      "Round: 5\n",
      "Starting player: eyal\n",
      "michal declared Yaniv with 6\n",
      "michal 0 ['hA' 'joker1' 'dA' 'd2' 'h2'] 49\n",
      "eyal 22 ['sA' 's2' 's4' 'c5' 'cJ'] 40\n",
      "====================\n",
      "Round: 6\n",
      "Starting player: michal\n",
      "michal declared Yaniv with 7\n",
      "michal 0 ['s2' 'c2' 'cA' 'dA' 'sA'] 49\n",
      "eyal 24 ['d8' 'joker1' 's5' 'd3' 'h8'] 64\n",
      "====================\n",
      "Round: 7\n",
      "Starting player: michal\n",
      "eyal declared Yaniv with 7\n",
      "michal 9 ['sA' 'joker1' 'c4' 'c2' 's2'] 58\n",
      "eyal 0 ['cA' 'd2' 'hA' 'h2' 'dA'] 64\n",
      "====================\n",
      "Round: 8\n",
      "Starting player: eyal\n",
      "eyal declared Yaniv with 6\n",
      "michal 19 ['h3' 'd2' 'c4' 'sA' 'd9'] 77\n",
      "eyal 0 ['joker1' 's2' 'c3' 'joker2' 'cA'] 64\n",
      "====================\n",
      "Round: 9\n",
      "Starting player: eyal\n",
      "michal declared Yaniv with 7\n",
      "michal 0 ['s2' 'h2' 'joker2' 'joker1' 's3'] 77\n",
      "eyal 18 ['d2' 'dA' 'd3' 'c2' 'dK'] 82\n",
      "====================\n",
      "Round: 10\n",
      "Starting player: michal\n",
      "michal declared Yaniv with 6\n",
      "michal 0 ['d2' 'dA' 'h2' 'sA' 'joker2'] 77\n",
      "eyal 15 ['s2' 'c4' 'h4' 'hA' 'd4'] 97\n",
      "====================\n",
      "Round: 11\n",
      "Starting player: michal\n",
      "michal declared Yaniv with 7\n",
      "michal 0 ['c4' 'joker2' 'h2' 'joker1' 'dA'] 77\n",
      "eyal 19 ['sA' 'h3' 's2' 'c3' 'hQ'] 116\n",
      "====================\n",
      "Round: 12\n",
      "Starting player: michal\n",
      "eyal declared Yaniv with 7\n",
      "michal 23 ['s4' 'h3' 'd4' 'c3' 'd9'] 100\n",
      "eyal 0 ['sA' 'h2' 'joker2' 's3' 'dA'] 116\n",
      "====================\n",
      "Round: 13\n",
      "Starting player: eyal\n",
      "eyal declared Yaniv with 4\n",
      "michal 10 ['sA' 'c3' 's2' 'c2' 'h2'] 110\n",
      "eyal 0 ['joker2' 'dA' 'hA' 'd2' 'joker1'] 116\n",
      "====================\n",
      "Round: 14\n",
      "Starting player: eyal\n",
      "michal declared Yaniv with 6\n",
      "michal 0 ['joker2' 'c3' 'dA' 'hA' 'sA'] 110\n",
      "eyal 12 ['joker1' 's3' 'd3' 'c4' 's2'] 128\n",
      "====================\n",
      "Round: 15\n",
      "Starting player: michal\n",
      "michal declared Yaniv with 5\n",
      "michal 0 ['joker2' 's2' 'dA' 'hA' 'sA'] 110\n",
      "eyal 18 ['d3' 's3' 'd2' 'joker1' 'sJ'] 146\n",
      "====================\n",
      "Round: 16\n",
      "Starting player: michal\n",
      "eyal declared Yaniv with 7\n",
      "michal 25 ['c2' 'h7' 'c4' 's2' 'd10'] 135\n",
      "eyal 0 ['d2' 'h3' 'hA' 'joker1' 'dA'] 146\n",
      "====================\n",
      "Round: 17\n",
      "Starting player: eyal\n",
      "eyal declared Yaniv with 7\n",
      "michal 15 ['d2' 'd4' 's2' 'h2' 'c5'] 150\n",
      "eyal 0 ['d3' 'joker1' 'h3' 'dA' 'joker2'] 146\n",
      "====================\n",
      "Round: 18\n",
      "Starting player: eyal\n",
      "michal declared Yaniv with 6\n",
      "michal 0 ['s2' 'd3' 'joker1' 'cA' 'joker2'] 150\n",
      "eyal 20 ['h4' 'c2' 'd2' 'c3' 'h9'] 166\n",
      "====================\n",
      "Round: 19\n",
      "Starting player: michal\n",
      "michal declared Yaniv with 7\n",
      "michal 0 ['joker1' 'c3' 'sA' 'cA' 'd2'] 150\n",
      "eyal 16 ['c2' 'hA' 'h2' 'd3' 's8'] 182\n",
      "====================\n",
      "Round: 20\n",
      "Starting player: michal\n",
      "eyal declared Yaniv with 7\n",
      "michal 13 ['c4' 's2' 'hA' 'c2' 's4'] 163\n",
      "eyal 0 ['h2' 'joker1' 'c3' 'sA' 'cA'] 182\n",
      "====================\n",
      "Round: 21\n",
      "Starting player: eyal\n",
      "michal declared Yaniv with 5\n",
      "michal 0 ['joker2' 'cA' 'hA' 'dA' 'h2'] 163\n",
      "eyal 23 ['s4' 'd4' 'c3' 'h4' 'd8'] 205\n",
      "eyal 205 OUT\n",
      "--------------------\n",
      "The winner is: michal with 163 points\n"
     ]
    }
   ],
   "source": [
    "game = yaniv.Game(['michal','eyal'])\n",
    "game.play()"
   ]
  }
 ],
 "metadata": {
  "anaconda-cloud": {},
  "kernelspec": {
   "display_name": "Python 3",
   "language": "python",
   "name": "python3"
  },
  "language_info": {
   "codemirror_mode": {
    "name": "ipython",
    "version": 3
   },
   "file_extension": ".py",
   "mimetype": "text/x-python",
   "name": "python",
   "nbconvert_exporter": "python",
   "pygments_lexer": "ipython3",
   "version": "3.6.5"
  },
  "toc": {
   "base_numbering": 1,
   "nav_menu": {
    "height": "48px",
    "width": "252px"
   },
   "number_sections": true,
   "sideBar": true,
   "skip_h1_title": false,
   "title_cell": "Table of Contents",
   "title_sidebar": "Contents",
   "toc_cell": false,
   "toc_position": {},
   "toc_section_display": "block",
   "toc_window_display": false
  }
 },
 "nbformat": 4,
 "nbformat_minor": 1
}
