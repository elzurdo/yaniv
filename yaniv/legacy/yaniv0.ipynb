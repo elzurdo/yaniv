{
 "cells": [
  {
   "cell_type": "markdown",
   "metadata": {},
   "source": [
    "# Objective\n",
    "\n",
    "Answer questions:  \n",
    "* Given a current hand, what is the probability for competitors to declare Yaniv?  \n",
    "* Given a current hand and being able to Yaniv, what is the probability of being Assafed?  "
   ]
  },
  {
   "cell_type": "markdown",
   "metadata": {},
   "source": [
    "# Context and Definitions\n",
    "\n",
    "What is the proability for each player to declare Yaniv?  \n",
    "\n",
    "Definitions:  \n",
    "\n",
    "Consistent throughout game:  \n",
    "* `all_card` - all cards (depends if using Jokers or not)   \n",
    "* $N_p^{total}$ - Number of players  \n",
    "\n",
    "Varies throughout game:\n",
    "\n",
    "* $N_i$ - number of cards held by competitor $i$  \n",
    "* $N_p^{playing}$ - Number of players still in game  \n",
    "\n",
    "Other variables:  \n",
    "* $m_i$ - memory factor of compeitor $i$  \n",
    "Is the fraction of unshown cards remembered by each player.  \n",
    "This varies from $m_{min}$ (0-1)  to $m_{max}$ ($m_{min}$ to 1)\n",
    "More advanced analysis might take into account: \n",
    "    * the time in which the card is no longer visible.  \n",
    "    * difference if the card was discarded by user or competitor  \n",
    "    * importance of card\n",
    "\n",
    "* `seen` - set of cards already seen by the user  \n",
    "This includes  \n",
    "    * Current cards at hand  \n",
    "    * Cards in pickup deck (set `pickup`)  \n",
    "* `unseen` - set of cards not seen by the user.  \n",
    "This includes  \n",
    "\n",
    "    * `unknown` - set of available cards. \n",
    "    This includes: \n",
    "        * `available` - the cards available in the deck  \n",
    "        * $s_i$ - set of cards held by competitor $i$ (`s_i`)  \n",
    "      \n",
    "\n",
    "\n",
    "Factors:  \n",
    "* User's current hand  \n",
    "These cards are excluded from `available`  \n",
    "* Number of cards in competitor's hands  \n",
    "* Cards seen picked up by others + memory factor  \n",
    "* Cards discarded in pile + memory factor  \n",
    "* Current card on top of pile  \n",
    "\n",
    "\n",
    "Context:   \n",
    "The game is focused around one users point-of-view (POV).  \n",
    "The user knows about the content of the full set of cards (`all`), but knows about:  \n",
    "* His current hand \n",
    "* Cards picked up by competitors (up to memory factor $m_i$)  \n",
    "* Cards discarded by himself and competitors (up to memory factor $m_i$)\n",
    "\n",
    "All the rest is missing information that must be inferred to deduce probabilities used for action.  "
   ]
  },
  {
   "cell_type": "markdown",
   "metadata": {},
   "source": [
    "# Card Setup"
   ]
  },
  {
   "cell_type": "code",
   "execution_count": 1,
   "metadata": {
    "ExecuteTime": {
     "end_time": "2018-01-10T08:41:30.546196Z",
     "start_time": "2018-01-10T08:41:28.424850"
    },
    "collapsed": true
   },
   "outputs": [],
   "source": [
    "from collections import OrderedDict\n",
    "\n",
    "import numpy as np\n",
    "import pandas as pd"
   ]
  },
  {
   "cell_type": "code",
   "execution_count": 2,
   "metadata": {
    "ExecuteTime": {
     "end_time": "2018-01-10T08:41:35.428383Z",
     "start_time": "2018-01-10T08:41:35.383974"
    },
    "collapsed": false,
    "scrolled": true
   },
   "outputs": [
    {
     "data": {
      "text/plain": [
       "54"
      ]
     },
     "execution_count": 2,
     "metadata": {},
     "output_type": "execute_result"
    }
   ],
   "source": [
    "jokers = True\n",
    "\n",
    "suits = ['d', 'h', 'c', 's'] # diamonds, clubs, hearts, spades\n",
    "\n",
    "values = range(1,11) + [10, 10, 10]\n",
    "names = ['A'] + map(str, range(2,11)) + ['J', 'Q', 'K'] # Ace, 2-10, Jack, Queen, King\n",
    "\n",
    "cards_all = {\"{}{}\".format(suit, name):\n",
    "values[iname]  for iname, name in enumerate(names) for suit in suits}\n",
    "\n",
    "if jokers:\n",
    "    cards_all['joker1'] = 0 \n",
    "    cards_all['joker2'] = 0 \n",
    "\n",
    "cards_all = pd.Series(cards_all.values(), index=cards_all.keys())    \n",
    "    \n",
    "len(cards_all.keys())"
   ]
  },
  {
   "cell_type": "code",
   "execution_count": 33,
   "metadata": {
    "ExecuteTime": {
     "end_time": "2018-01-10T18:11:49.199075Z",
     "start_time": "2018-01-10T18:11:49.162340"
    },
    "collapsed": false
   },
   "outputs": [
    {
     "data": {
      "text/plain": [
       "h8         8\n",
       "h9         9\n",
       "h2         2\n",
       "h3         3\n",
       "joker1     0\n",
       "h6         6\n",
       "h7         7\n",
       "h4         4\n",
       "h5         5\n",
       "d8         8\n",
       "d9         9\n",
       "d6         6\n",
       "d7         7\n",
       "d4         4\n",
       "d5         5\n",
       "d2         2\n",
       "d3         3\n",
       "cK        10\n",
       "cJ        10\n",
       "s9         9\n",
       "s8         8\n",
       "d10       10\n",
       "s3         3\n",
       "s2         2\n",
       "cA         1\n",
       "joker2     0\n",
       "s7         7\n",
       "s6         6\n",
       "s5         5\n",
       "s4         4\n",
       "cQ        10\n",
       "c10       10\n",
       "sQ        10\n",
       "s10       10\n",
       "sK        10\n",
       "sJ        10\n",
       "c9         9\n",
       "c8         8\n",
       "c3         3\n",
       "c2         2\n",
       "sA         1\n",
       "c7         7\n",
       "c6         6\n",
       "c5         5\n",
       "c4         4\n",
       "dJ        10\n",
       "dK        10\n",
       "h10       10\n",
       "hQ        10\n",
       "dA         1\n",
       "hJ        10\n",
       "hK        10\n",
       "hA         1\n",
       "dQ        10\n",
       "dtype: int64"
      ]
     },
     "execution_count": 33,
     "metadata": {},
     "output_type": "execute_result"
    }
   ],
   "source": [
    "cards_all\n"
   ]
  },
  {
   "cell_type": "markdown",
   "metadata": {},
   "source": [
    "# Game Simulation\n",
    "\n",
    "class `game` \n",
    "Contains information of the game in general.  \n",
    "* Players (total number, active number, names)   \n",
    "* Keeping track of cards  \n",
    "* Flag of joker usage\n",
    "\n",
    "\n",
    "class `round`  \n",
    "Contains information of a specific round    \n",
    "\n",
    "class `player`  \n",
    "Contains information of user:  \n",
    "* In general  \n",
    "* Spefic for round"
   ]
  },
  {
   "cell_type": "code",
   "execution_count": 70,
   "metadata": {
    "ExecuteTime": {
     "end_time": "2018-01-10T18:28:32.646177Z",
     "start_time": "2018-01-10T18:28:32.498757"
    },
    "collapsed": false
   },
   "outputs": [
    {
     "name": "stdout",
     "output_type": "stream",
     "text": [
      "New Game\n",
      "New Game\n",
      "here\n",
      "Number of players: 3\n",
      "John, Paul, Ringo\n",
      "Distriubting cards\n",
      "0 ['hK' 'joker1' 'd8' 'c7' 's9']\n",
      "1 ['d6' 'd2' 'dJ' 'd5' 'c2']\n",
      "2 ['joker2' 's2' 'c8' 'sJ' 'hQ']\n",
      "now here\n"
     ]
    }
   ],
   "source": [
    "l_names = ['John', 'Paul', 'Ringo', 'Jim']\n",
    "\n",
    "class Game():\n",
    "    def __init__(self, nplayers=3, jokers=True, thresh=200, verbose=True):\n",
    "        # general definitions\n",
    "        self.verbose = verbose\n",
    "        \n",
    "        if self.verbose:\n",
    "            print \"New Game\"\n",
    "        \n",
    "        # may be varied by user\n",
    "        self.nplayers = nplayers\n",
    "        self.jokers = True\n",
    "        self.thresh = thresh\n",
    "        \n",
    "        # determined by game rules\n",
    "        self.round_number = 1\n",
    "        self.nplayers_active = int(self.nplayers)\n",
    "        \n",
    "        self._player_setup()\n",
    "        self._cards()\n",
    "        \n",
    "    def _player_setup(self):\n",
    "        self.players = OrderedDict()\n",
    "        for idx in range(self.nplayers):\n",
    "            self.players[idx] = Player(idx)\n",
    "    \n",
    "    def _cards(self):\n",
    "        # after a threshold of people we should have more than one \n",
    "        # standard deck. this would mean that full_deck indexes \n",
    "        # get a number to distinguish which deck each card came from\n",
    "        suits = ['d', 'h', 'c', 's'] # diamonds, clubs, hearts, spades\n",
    "\n",
    "        values = range(1,11) + [10, 10, 10]\n",
    "        # Ace, 2-10, Jack, Queen, King\n",
    "        names = ['A'] + map(str, range(2,11)) + ['J', 'Q', 'K'] \n",
    "        \n",
    "\n",
    "        deck = {\"{}{}\".format(suit, name):\n",
    "        values[iname]  for iname, name in enumerate(names) for suit in suits}\n",
    "\n",
    "        if self.jokers:\n",
    "            deck['joker1'] = 0 \n",
    "            deck['joker2'] = 0 \n",
    "            \n",
    "        full_deck = pd.Series(deck.values(), index=deck.keys())  \n",
    "            \n",
    "        self.full_deck = full_deck\n",
    "         \n",
    "    def simulate_rounds(self, restart=True):\n",
    "        \n",
    "        if restart:\n",
    "            self = Game(self.nplayers, jokers=self.jokers, verbose=self.verbose)\n",
    "            # yields self.round_number = 1\n",
    "        else:\n",
    "            self.round_number += 1\n",
    "        \n",
    "        print 'here'\n",
    "        self.round_ = Round(self.players)\n",
    "        print 'now here'\n",
    "        \n",
    "    def hand2sum(hand):\n",
    "        None\n",
    "            \n",
    "class Player():\n",
    "    def __init__(self, idx):\n",
    "        # constant in game\n",
    "        self.idx = idx\n",
    "        self.name = l_names[idx]\n",
    "        \n",
    "        # varies in game\n",
    "        self.score = 0\n",
    "        self.active = True  # all players are initially active\n",
    "        \n",
    "        # varies in round\n",
    "        self.turn = False # True: turn to pick up or declare, False: Not turn \n",
    "        self.hand = None\n",
    "        \n",
    "    def hand_total():\n",
    "        print None\n",
    "    \n",
    "    def check_active(thresh):\n",
    "        # True: score<thresh, False: score >=tresh\n",
    "        if self.score < thresh:\n",
    "            self.active = True \n",
    "        else:\n",
    "            self.active = False\n",
    "\n",
    "class Round():\n",
    "    def __init__(self, players, verbose=True):\n",
    "        self.verbose = verbose\n",
    "        \n",
    "        self.players = players\n",
    "        \n",
    "        # counting the number of active players in round\n",
    "        self.N_active = 0\n",
    "        for idx in range(len(self.players)):\n",
    "            if self.players[idx].active:\n",
    "                self.N_active += 1\n",
    "                \n",
    "        if self.verbose:\n",
    "            print \"Number of players: {}\".format(self.N_active)\n",
    "            l_names = [player.name for idx, player in self.players.iteritems()]\n",
    "            print \", \".join(l_names)\n",
    "            \n",
    "        self.distribute_cards()\n",
    "        \n",
    "    def distribute_cards(self):\n",
    "        \n",
    "        if self.verbose:\n",
    "            print 'Distriubting cards'\n",
    "            \n",
    "        for idx, _ in self.players.iteritems():\n",
    "            self.players[idx].hand = np.random.choice(game.full_deck.index.tolist(), 5, replace=False)\n",
    "            print idx, self.players[idx].hand\n",
    "        \n",
    "            \n",
    "game = Game()\n",
    "game.simulate_rounds()"
   ]
  },
  {
   "cell_type": "code",
   "execution_count": 73,
   "metadata": {
    "ExecuteTime": {
     "end_time": "2018-01-10T18:29:40.746947Z",
     "start_time": "2018-01-10T18:29:40.727984"
    },
    "collapsed": false,
    "scrolled": true
   },
   "outputs": [
    {
     "ename": "TypeError",
     "evalue": "__init__() takes exactly 2 arguments (1 given)",
     "output_type": "error",
     "traceback": [
      "\u001b[0;31m---------------------------------------------------------------------------\u001b[0m",
      "\u001b[0;31mTypeError\u001b[0m                                 Traceback (most recent call last)",
      "\u001b[0;32m<ipython-input-73-480562f36787>\u001b[0m in \u001b[0;36m<module>\u001b[0;34m()\u001b[0m\n\u001b[0;32m----> 1\u001b[0;31m \u001b[0mRound\u001b[0m\u001b[0;34m(\u001b[0m\u001b[0;34m[\u001b[0m\u001b[0mPlayer\u001b[0m\u001b[0;34m(\u001b[0m\u001b[0;34m)\u001b[0m\u001b[0;34m]\u001b[0m\u001b[0;34m)\u001b[0m\u001b[0;34m\u001b[0m\u001b[0m\n\u001b[0m",
      "\u001b[0;31mTypeError\u001b[0m: __init__() takes exactly 2 arguments (1 given)"
     ]
    }
   ],
   "source": [
    "Round([Player()])"
   ]
  },
  {
   "cell_type": "code",
   "execution_count": 67,
   "metadata": {
    "ExecuteTime": {
     "end_time": "2018-01-10T18:27:13.892003Z",
     "start_time": "2018-01-10T18:27:13.888273"
    },
    "collapsed": true
   },
   "outputs": [],
   "source": [
    "aa"
   ]
  },
  {
   "cell_type": "code",
   "execution_count": 4,
   "metadata": {
    "ExecuteTime": {
     "end_time": "2018-01-10T08:41:46.003206Z",
     "start_time": "2018-01-10T08:41:45.997069"
    },
    "collapsed": false
   },
   "outputs": [
    {
     "data": {
      "text/plain": [
       "True"
      ]
     },
     "execution_count": 4,
     "metadata": {},
     "output_type": "execute_result"
    }
   ],
   "source": [
    "game.players[0].active"
   ]
  },
  {
   "cell_type": "markdown",
   "metadata": {},
   "source": [
    "# Yaniv Declaring Probability\n",
    "\n",
    "Given a stance in the game -  \n",
    "what is the probability that each player can declare Yaniv?  "
   ]
  },
  {
   "cell_type": "code",
   "execution_count": 5,
   "metadata": {
    "ExecuteTime": {
     "end_time": "2018-01-10T08:41:58.266586Z",
     "start_time": "2018-01-10T08:41:58.258146"
    },
    "collapsed": false
   },
   "outputs": [],
   "source": [
    "dict_N_maxValue = {} #given number of cards in hand, the maximum value card for Yaniv\n",
    "\n",
    "# Evaluating the most extereme values to obtain a Yaniv\n",
    "if jokers:\n",
    "    dict_N_maxValue[5] = 5 # joker, joker, ace, ace, 5\n",
    "    dict_N_maxValue[4] = 6 # joker, joker, ace, 6\n",
    "    dict_N_maxValue[3] = 7 # joker, joker, 7\n",
    "    dict_N_maxValue[2] = 7 # joker, 7\n",
    "    dict_N_maxValue[1] = 7\n",
    "else:\n",
    "    dict_N_maxValue[5] = 3\n",
    "    dict_N_maxValue[4] = 4\n",
    "    dict_N_maxValue[3] = 5\n",
    "    dict_N_maxValue[2] = 6\n",
    "    dict_N_maxValue[1] = 7"
   ]
  },
  {
   "cell_type": "code",
   "execution_count": 6,
   "metadata": {
    "ExecuteTime": {
     "end_time": "2018-01-10T08:42:03.995569Z",
     "start_time": "2018-01-10T08:42:03.513208"
    },
    "collapsed": false
   },
   "outputs": [
    {
     "name": "stdout",
     "output_type": "stream",
     "text": [
      "Given a hand of 2 cards\n",
      "54 total uknown cards\n",
      "30 of which in Yaniv range:\n",
      "c2 c3 c4 c5 c6 c7 cA d2 d3 d4 d5 d6 d7 dA h2 h3 h4 h5 h6 h7 hA joker1 joker2 s2 s3 s4 s5 s6 s7 sA \n",
      "There are a total of\n",
      "1,431 possible hands\n",
      "219 (15.303983%) of which can call Yaniv \n"
     ]
    }
   ],
   "source": [
    "# We will first attempt to answer this without knowing any cards of any of the players, \n",
    "# and at the beginning of the game when the pickup pile does not have cards\n",
    "\n",
    "\n",
    "from itertools import combinations\n",
    "from scipy.misc import comb\n",
    "\n",
    "# ========= defintions =======\n",
    "N_cards_i = 2\n",
    "N_cards_possible_in_hand = len(cards_all.keys())\n",
    "cards_available = cards_all.copy() # should also add cards known to be in possesion by player\n",
    "# =============================\n",
    "\n",
    "# this is combinations (not permutations, i.e [h1, d1] is the same as [d1, h1])\n",
    "N_hands_possible = comb(N_cards_possible_in_hand, N_cards_i, exact=True)\n",
    "\n",
    "max_value = dict_N_maxValue[N_cards_i]\n",
    "\n",
    "# Determining the cards in range\n",
    "cards_available_inRange = cards_available[cards_available <= max_value]\n",
    "\n",
    "N_hands_yaniv = 0\n",
    "for p in combinations(cards_available_inRange.values, N_cards_i):\n",
    "    if np.sum(p) <= 7:\n",
    "        N_hands_yaniv += 1\n",
    "        \n",
    "    # optimisation suggestion:\n",
    "    # iterate over each index until the maximum combination obtain\n",
    "    # and then calculate the number of optimsations\n",
    "    # e.g, for N_i=5, once 1,1,1,1,3 is figured out, no need to check 1,1,1,2,3\n",
    "\n",
    "print \"Given a hand of {} cards\\n{:,} total uknown cards\\n{:,} of which in Yaniv range:\".format(N_cards_i, len(cards_available), len(cards_available_inRange))\n",
    "for key in sorted(cards_available_inRange.keys()): print key,\n",
    "print \"\\nThere are a total of\\n{:,} possible hands\\n{:,} ({:0.6f}%) of which can call Yaniv \".format(N_hands_possible, N_hands_yaniv, N_hands_yaniv * 100. / N_hands_possible)"
   ]
  },
  {
   "cell_type": "code",
   "execution_count": 7,
   "metadata": {
    "ExecuteTime": {
     "end_time": "2018-01-10T08:42:27.031698Z",
     "start_time": "2018-01-10T08:42:27.016146"
    },
    "collapsed": false,
    "scrolled": true
   },
   "outputs": [
    {
     "name": "stdout",
     "output_type": "stream",
     "text": [
      "User cards: hand=24 \n",
      "c3 cA d6 h4 hJ\n"
     ]
    }
   ],
   "source": [
    "# introducing known cards of user (POV)\n",
    "# ========= defintions =======\n",
    "N_cards_i = 5\n",
    "# N_cards_possible_in_hand = len(cards_all.keys())\n",
    "memory_i = 1.\n",
    "# =============================\n",
    "\n",
    "cards_user = cards_all.sample(N_cards_i, replace=False)\n",
    "cards_user\n",
    "\n",
    "# available cards\n",
    "idx_cards_known = cards_user.index\n",
    "\n",
    "# cards_available in user memory (for all cards memory_i=1)\n",
    "cards_available = cards_all[~cards_all.index.isin(idx_cards_known)]\n",
    "\n",
    "print \"User cards: hand={} \".format(cards_user.values.sum()) \n",
    "for key in sorted(cards_user.keys()): print key,"
   ]
  },
  {
   "cell_type": "code",
   "execution_count": 38,
   "metadata": {
    "ExecuteTime": {
     "end_time": "2018-01-02T09:08:19.327279Z",
     "start_time": "2018-01-02T09:08:19.322472"
    },
    "collapsed": false
   },
   "outputs": [],
   "source": [
    "# Competitors' cards in user memory\n",
    "# for now memory is the same.\n",
    "# more realistic: user might remember cards differently for:\n",
    "# * the player after him/her\n",
    "# * the player with the least amount of cards in their hand\n",
    "# * a player that picked up a desired card (e.g, low card, or one that the user needs for benefit)\n",
    "# .... DEPENDS IF THE USER PICKS FROM THE SEEN-PICKUP or UNSEEN-PICKUP\n",
    "\n",
    "N_players = 3\n",
    "N_competitors = N_players - 1 \n",
    "\n",
    "dict_players = {}\n",
    "\n",
    "for idx in range(N_competitors):\n",
    "    \n",
    "    "
   ]
  },
  {
   "cell_type": "code",
   "execution_count": 35,
   "metadata": {
    "ExecuteTime": {
     "end_time": "2018-01-02T09:05:31.923676Z",
     "start_time": "2018-01-02T09:05:31.904207"
    },
    "collapsed": false
   },
   "outputs": [
    {
     "name": "stdout",
     "output_type": "stream",
     "text": [
      "Current pickup card(s): c2 s4 s9 \n",
      "Known pickup cards: c2 c6 c7 h4 h8 hQ s4 s9 sQ \n",
      "The total unaccounted for cards are: 24\n"
     ]
    }
   ],
   "source": [
    "# of Pile (current to pickup (might be more than one...) and all in user memory)\n",
    "\n",
    "#pickup_all = pd.Series() # refresh in every game\n",
    "\n",
    "pickup_current = cards_all.sample(3, replace=False)\n",
    "#idx_cards_known = idx_cards_known.append(pickup_current.index)\n",
    "\n",
    "# updating pickup pile\n",
    "pickup_all = pickup_all.append(pickup_current)\n",
    "\n",
    "# updating cards remembered by user\n",
    "n_pickupMemory = int(len(pickup_all) * memory_i)\n",
    "pickup_known = pickup_all.sample(n_pickupMemory, replace=False)\n",
    "\n",
    "# verifying that current pickup is known\n",
    "#if not pickup_current.index.isin(pickup_known.index):\n",
    "#    pickup_known = pickup_known.append(pickup_known)\n",
    "for idx in pickup_current.index.tolist():\n",
    "    if idx not in pickup_known.index:\n",
    "        pickup_known = pickup_known.append(pickup_current.loc[idx])\n",
    "idx_cards_known = idx_cards_known.append(pickup_known.index)\n",
    "    \n",
    "cards_available = cards_all[~cards_all.index.isin(idx_cards_known)]\n",
    "    \n",
    "#cards_available = cards_all.copy() # should also add cards known to be in possesion by player\n",
    "print \"Current pickup card(s):\", \n",
    "for key in sorted(pickup_current.keys()): print key,\n",
    "print \"\\nKnown pickup cards:\",\n",
    "for key in sorted(pickup_known.keys()): print key,\n",
    "print \"\\nThe total unaccounted for cards are: {}\".format(len(cards_available))\n"
   ]
  },
  {
   "cell_type": "code",
   "execution_count": 91,
   "metadata": {
    "ExecuteTime": {
     "end_time": "2017-12-30T14:07:03.239736Z",
     "start_time": "2017-12-30T14:07:03.083471"
    },
    "collapsed": false
   },
   "outputs": [
    {
     "name": "stdout",
     "output_type": "stream",
     "text": [
      "Given a hand of 5 cards\n",
      "48 total uknown cards\n",
      "19 of which in Yaniv range:\n",
      "c2 c3 c4 cA d2 d3 d4 d5 dA h2 h3 h4 h5 hA joker2 s2 s3 s4 s5 \n",
      "There are a total of\n",
      "1,712,304 possible hands\n",
      "96 (0.005606%) of which can call Yaniv \n"
     ]
    }
   ],
   "source": [
    "N_cards_possible_in_hand = len(cards_available.keys())\n",
    "\n",
    "# this is combinations (not permutations, i.e [h1, d1] is the same as [d1, h1])\n",
    "N_hands_possible = comb(N_cards_possible_in_hand, N_cards_i, exact=True)\n",
    "\n",
    "max_value = dict_N_maxValue[N_cards_i] \n",
    "\n",
    "# Determining the cards in range\n",
    "cards_available_inRange = cards_available[cards_available <= max_value]\n",
    "\n",
    "N_hands_yaniv = 0\n",
    "for p in combinations(cards_available_inRange.values, N_cards_i):\n",
    "    if np.sum(p) <= 7:\n",
    "        N_hands_yaniv += 1\n",
    "        \n",
    "    # optimisation suggestion:\n",
    "    # iterate over each index until the maximum combination obtain\n",
    "    # and then calculate the number of optimsations\n",
    "    # e.g, for N_i=5, once 1,1,1,1,3 is figured out, no need to check 1,1,1,2,3\n",
    "\n",
    "print \"Given a hand of {} cards\\n{:,} total uknown cards\\n{:,} of which in Yaniv range:\".format(N_cards_i, len(cards_available), len(cards_available_inRange))\n",
    "for key in sorted(cards_available_inRange.keys()): print key,\n",
    "print \"\\nThere are a total of\\n{:,} possible hands\\n{:,} ({:0.6f}%) of which can call Yaniv \".format(N_hands_possible, N_hands_yaniv, N_hands_yaniv * 100. / N_hands_possible)"
   ]
  },
  {
   "cell_type": "code",
   "execution_count": null,
   "metadata": {
    "collapsed": true
   },
   "outputs": [],
   "source": [
    "# We now add one card to the pickup deck and see a user's hand"
   ]
  },
  {
   "cell_type": "code",
   "execution_count": null,
   "metadata": {
    "collapsed": true
   },
   "outputs": [],
   "source": []
  },
  {
   "cell_type": "markdown",
   "metadata": {},
   "source": [
    "# Yaniv Winning Probability  \n",
    "Given a stance in the game -  \n",
    "* What is the probability of being Assafed by each player?  \n",
    "* What is the probability of winning with a Yaniv?  "
   ]
  },
  {
   "cell_type": "code",
   "execution_count": null,
   "metadata": {
    "collapsed": true
   },
   "outputs": [],
   "source": []
  },
  {
   "cell_type": "markdown",
   "metadata": {},
   "source": [
    "# Resources\n",
    "\n",
    "[Python Combinations:   scipy.misc.comb](https://docs.scipy.org/doc/scipy-0.19.0/reference/generated/scipy.misc.comb.html)\n",
    "\n",
    "[Python: Iterating over Permutation and Combinations](https://www.safaribooksonline.com/library/view/python-cookbook-3rd/9781449357337/ch04s09.html)\n",
    "\n",
    "[Python HyperGeometric distributions:  `scipy.stats.hypergeom`](https://docs.scipy.org/doc/scipy-0.14.0/reference/generated/scipy.stats.hypergeom.html)"
   ]
  },
  {
   "cell_type": "markdown",
   "metadata": {},
   "source": [
    "# Talk Abstract\n",
    "\n",
    "\n",
    "Yaniv is a highly adictive card game which is very popular amongst backpackers. I discuss the statistical analysis of the game with a focus on python tools for probabilistic programming. \n",
    "\n",
    "\n",
    "\n",
    "https://en.wikipedia.org/wiki/Yaniv_(card_game)"
   ]
  },
  {
   "cell_type": "markdown",
   "metadata": {},
   "source": [
    "Calling all Bayesian-minded analysts!\n",
    "\n",
    "We will meet to work on projects themed around probabilistic programming.  \n",
    "No matter your language of preference (be it is R, Stan or Python, e.g), bring your laptop and get ready for a few hours of discussing and applying statistical methods to questions that you are interested in answering. Come either with an idea that you have been itching to try out or willingness to work on somebody's else's. \n",
    "\n",
    "All levels welcome, no matter if you are a beginner data scientists, a developer with an interest in applying statistical methods or a statistician wanting to improve your applied skills. \n",
    "\n",
    "P(fun=True|attend=True) = 1 !\n",
    "\n",
    "Disclaimer:\n",
    "Frequentists welcome, too, but we'll set a flat prior on the conversion rate and update it with time."
   ]
  }
 ],
 "metadata": {
  "anaconda-cloud": {},
  "kernelspec": {
   "display_name": "Python [Root]",
   "language": "python",
   "name": "Python [Root]"
  },
  "language_info": {
   "codemirror_mode": {
    "name": "ipython",
    "version": 2
   },
   "file_extension": ".py",
   "mimetype": "text/x-python",
   "name": "python",
   "nbconvert_exporter": "python",
   "pygments_lexer": "ipython2",
   "version": "2.7.13"
  },
  "toc": {
   "colors": {
    "hover_highlight": "#DAA520",
    "running_highlight": "#FF0000",
    "selected_highlight": "#FFD700"
   },
   "moveMenuLeft": true,
   "nav_menu": {
    "height": "138px",
    "width": "252px"
   },
   "navigate_menu": true,
   "number_sections": true,
   "sideBar": true,
   "threshold": 4,
   "toc_cell": false,
   "toc_section_display": "block",
   "toc_window_display": true,
   "widenNotebook": false
  }
 },
 "nbformat": 4,
 "nbformat_minor": 0
}
