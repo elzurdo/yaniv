{
 "cells": [
  {
   "cell_type": "code",
   "execution_count": 1,
   "metadata": {
    "ExecuteTime": {
     "end_time": "2020-02-20T15:08:08.849531Z",
     "start_time": "2020-02-20T15:08:05.794545Z"
    }
   },
   "outputs": [],
   "source": [
    "import numpy as np\n",
    "import pprint\n",
    "import pandas as pd\n",
    "\n",
    "%load_ext autoreload\n",
    "%autoreload 2\n",
    "\n",
    "import matplotlib.pyplot as plt\n",
    "%matplotlib inline"
   ]
  },
  {
   "cell_type": "code",
   "execution_count": 2,
   "metadata": {
    "ExecuteTime": {
     "end_time": "2020-02-20T15:08:09.315083Z",
     "start_time": "2020-02-20T15:08:08.956413Z"
    }
   },
   "outputs": [],
   "source": [
    "from cards import get_deck, cards_to_value_sum, sort_cards, cards_to_values\n",
    "\n",
    "from itertools import combinations # permutations\n",
    "from scipy.special import comb"
   ]
  },
  {
   "cell_type": "code",
   "execution_count": 3,
   "metadata": {
    "ExecuteTime": {
     "end_time": "2020-02-20T15:08:09.410376Z",
     "start_time": "2020-02-20T15:08:09.318816Z"
    }
   },
   "outputs": [
    {
     "data": {
      "text/plain": [
       "52"
      ]
     },
     "execution_count": 3,
     "metadata": {},
     "output_type": "execute_result"
    }
   ],
   "source": [
    "play_jokers = False\n",
    "\n",
    "deck = get_deck(play_jokers=play_jokers)\n",
    "\n",
    "len(deck)"
   ]
  },
  {
   "cell_type": "markdown",
   "metadata": {},
   "source": [
    "# Number of Card Combinations"
   ]
  },
  {
   "cell_type": "code",
   "execution_count": 4,
   "metadata": {
    "ExecuteTime": {
     "end_time": "2020-02-20T15:08:13.858356Z",
     "start_time": "2020-02-20T15:08:12.763834Z"
    }
   },
   "outputs": [],
   "source": [
    "from stats import calculate_number_card_combinations"
   ]
  },
  {
   "cell_type": "code",
   "execution_count": 5,
   "metadata": {
    "ExecuteTime": {
     "end_time": "2020-02-20T15:08:14.031959Z",
     "start_time": "2020-02-20T15:08:13.893932Z"
    }
   },
   "outputs": [
    {
     "name": "stdout",
     "output_type": "stream",
     "text": [
      "n_j=5, N=51 yields 2.3 million combinations\n"
     ]
    }
   ],
   "source": [
    "n_j = 5\n",
    "cards_unknown = deck[:-1]\n",
    "N = len(cards_unknown)\n",
    "\n",
    "combinations_ = calculate_number_card_combinations(N, n_j)\n",
    "print(f'n_j={n_j}, N={N} yields {combinations_/1.e6:0.1f} million combinations')"
   ]
  },
  {
   "cell_type": "markdown",
   "metadata": {},
   "source": [
    "# Two-Player Stats"
   ]
  },
  {
   "cell_type": "code",
   "execution_count": 6,
   "metadata": {
    "ExecuteTime": {
     "end_time": "2020-02-20T15:08:19.001134Z",
     "start_time": "2020-02-20T15:08:18.959460Z"
    }
   },
   "outputs": [],
   "source": [
    "from stats import calculate_p_hj_gt_hi_accurate, calculate_p_hj_gt_hi_n_j_prior"
   ]
  },
  {
   "cell_type": "code",
   "execution_count": 7,
   "metadata": {
    "ExecuteTime": {
     "end_time": "2020-02-20T15:08:20.531841Z",
     "start_time": "2020-02-20T15:08:20.472487Z"
    }
   },
   "outputs": [],
   "source": [
    "def situation_setup(example):\n",
    "    h_i = cards_to_value_sum(example['cards_i'])\n",
    "    cards_unknown = list(set(example['deck_explore']) - set(example['cards_i']))\n",
    "    \n",
    "    if 'pile_top' in example.keys():\n",
    "        cards_unknown = list(set(cards_unknown) - set(example['pile_top']))\n",
    "        \n",
    "    cards_unknown = sort_cards(cards_unknown)\n",
    "    \n",
    "    if 'N' in example.keys():\n",
    "        cards_unknown = cards_unknown[:example['N']]\n",
    "        \n",
    "    return h_i, cards_unknown"
   ]
  },
  {
   "cell_type": "code",
   "execution_count": 8,
   "metadata": {
    "ExecuteTime": {
     "end_time": "2020-02-20T15:08:23.704387Z",
     "start_time": "2020-02-20T15:08:23.655478Z"
    }
   },
   "outputs": [],
   "source": [
    "play_jokers = False\n",
    "\n",
    "# ======\n",
    "deck = get_deck(play_jokers=play_jokers)\n",
    "\n",
    "examples = {}\n",
    "\n",
    "examples[1] = {'n_j': 2, 'cards_i': ['As', 'Ah', '3c'], 'deck_explore':deck[5:], 'N':5}\n",
    "examples[2] = {'n_j': 3, 'cards_i': ['7h'], 'deck_explore':deck[6:], 'N':20}\n",
    "examples[3] = {'n_j': 3, 'cards_i': ['3h', '2h', 'As', 'Ah'], 'deck_explore':deck[3:], 'N':40}\n",
    "examples[4] = {'n_j': 3, 'cards_i': ['3h', '2h', 'As', 'Ah'], 'deck_explore':deck[3:], 'N':None}\n",
    "examples[5] = {'n_j': 3, 'cards_i': ['3h', '2h', 'As', 'Ah'], 'deck_explore':deck[3:-1], 'N':None}\n",
    "examples[6] = {'n_j': 3, 'cards_i': ['3h', '2h', 'As', 'Ah'], 'deck_explore':deck[3:-2], 'N':None, 'pile_top': ['2s', '3s', '4s']}\n",
    "examples[7] = {'n_j': 1, 'cards_i': ['As', 'Ah', '3c'], 'deck_explore':deck[5:], 'pile_top':['3s', '4s','5s','6s']}"
   ]
  },
  {
   "cell_type": "code",
   "execution_count": 10,
   "metadata": {
    "ExecuteTime": {
     "end_time": "2020-02-20T15:08:35.951045Z",
     "start_time": "2020-02-20T15:08:33.826608Z"
    }
   },
   "outputs": [
    {
     "name": "stdout",
     "output_type": "stream",
     "text": [
      "0.1 0.10000000000000009\n",
      "0.9964912280701754 0.9964912280701755\n",
      "0.9989878542510121 0.9989878542510121\n",
      "0.9993412384716732 0.9993412384716733\n",
      "0.9992952783650458 0.9992952783650458\n",
      "0.999812382739212 0.999812382739212\n",
      "0.7380952380952381 0.7380952380952381\n"
     ]
    }
   ],
   "source": [
    "# Testing\n",
    "verbose = 0\n",
    "\n",
    "for idx in examples.keys():\n",
    "    h_i, cards_unknown = situation_setup(examples[idx])\n",
    "    p_accurate = calculate_p_hj_gt_hi_accurate(cards_unknown, examples[idx]['n_j'], h_i, verbose=verbose)\n",
    "    p_priored = calculate_p_hj_gt_hi_n_j_prior(examples[idx]['n_j'], cards_unknown, h_i=h_i, play_jokers=play_jokers, verbose=verbose)\n",
    "\n",
    "    #print('-' * 20)\n",
    "    print(p_accurate, p_priored)\n",
    "    #print((p_priored - p_accurate) *100./p_accurate)\n",
    "    assert np.allclose(p_priored, p_accurate, rtol=1e-5, atol=0)\n",
    "   "
   ]
  },
  {
   "cell_type": "markdown",
   "metadata": {
    "ExecuteTime": {
     "end_time": "2020-02-01T20:30:11.579183Z",
     "start_time": "2020-02-01T20:30:11.545049Z"
    },
    "heading_collapsed": true
   },
   "source": [
    "# Visualise"
   ]
  },
  {
   "cell_type": "code",
   "execution_count": 11,
   "metadata": {
    "ExecuteTime": {
     "end_time": "2020-02-20T15:08:59.885503Z",
     "start_time": "2020-02-20T15:08:59.833485Z"
    },
    "hidden": true
   },
   "outputs": [],
   "source": [
    "from visualise import visualise_cards, add_stats"
   ]
  },
  {
   "cell_type": "code",
   "execution_count": 12,
   "metadata": {
    "ExecuteTime": {
     "end_time": "2020-02-20T15:09:01.747492Z",
     "start_time": "2020-02-20T15:09:00.304672Z"
    },
    "hidden": true
   },
   "outputs": [
    {
     "name": "stdout",
     "output_type": "stream",
     "text": [
      "n_j=1, h_i=5, n_jokers=0 yields\n",
      "t_nj=6\n",
      "N: 42\n",
      "['2c', '2s', '2h', '3d', '3h', '4d', '4h', '4c', '5d', '5c', '5h', '6h', '6d', '6c', '7h', '7c', '7s', '7d', '8d', '8s', '8h', '8c', '9d', '9c', '9h', '9s', '10s', '10c', '10d', '10h', 'Jd', 'Js', 'Jc', 'Jh', 'Qd', 'Qh', 'Qs', 'Qc', 'Kh', 'Ks', 'Kd', 'Kc']\n",
      "n: 11\n",
      "['2c', '2s', '2h', '3d', '3h', '4d', '4h', '4c', '5d', '5c', '5h']\n",
      "total: 11\n",
      "successes: 0\n",
      "P(h_j>h_i|U)=0.000\n",
      "N=42, K=11, n_j=1, yields:\n",
      "p(U)=0.262\n",
      "P(h_j>h_i=5|n_j, cards)=0.738\n"
     ]
    },
    {
     "data": {
      "image/png": "[encoded data removed]",
      "text/plain": [
       "<Figure size 720x720 with 1 Axes>"
      ]
     },
     "metadata": {
      "needs_background": "light"
     },
     "output_type": "display_data"
    }
   ],
   "source": [
    "idx = 7\n",
    "verbose = 1\n",
    "\n",
    "#cards_hand = ['As', '7d', 'Kc', 'Wa', 'Wb']\n",
    "#cards_pile = ['2s', '3s', '4s']\n",
    "\n",
    "cards_hand = examples[idx]['cards_i']\n",
    "n_j = examples[idx]['n_j']\n",
    "\n",
    "cards_pile = examples[idx]['pile_top']\n",
    "h_i, cards_unknown = situation_setup(examples[idx])\n",
    "\n",
    "ax = visualise_cards(cards_hand, ax=None, cards_type='hand', show_spines=False)\n",
    "visualise_cards(cards_pile, ax=ax, cards_type='pile', show_spines=False)\n",
    "visualise_cards(4, ax=ax, cards_type='opponent', show_spines=False)\n",
    "add_stats(n_j, cards_unknown, ax, h_i=h_i, play_jokers=play_jokers, verbose=verbose)"
   ]
  },
  {
   "cell_type": "markdown",
   "metadata": {
    "ExecuteTime": {
     "end_time": "2020-02-06T14:07:29.675940Z",
     "start_time": "2020-02-06T14:07:29.646952Z"
    },
    "heading_collapsed": true
   },
   "source": [
    "# One Game"
   ]
  },
  {
   "cell_type": "code",
   "execution_count": 19,
   "metadata": {
    "ExecuteTime": {
     "end_time": "2020-02-20T15:10:06.161226Z",
     "start_time": "2020-02-20T15:10:06.124805Z"
    },
    "hidden": true
   },
   "outputs": [],
   "source": [
    "import game\n",
    "from cards import get_deck\n",
    "\n",
    "from visualise import plot_game_turns_per_round\n",
    "from summarise_game import game_output_to_yaniv_probabilities\n",
    "from summarise_game import round_output_to_turns_df"
   ]
  },
  {
   "cell_type": "code",
   "execution_count": 26,
   "metadata": {
    "ExecuteTime": {
     "end_time": "2020-02-20T15:12:19.469162Z",
     "start_time": "2020-02-20T15:12:19.338835Z"
    },
    "hidden": true
   },
   "outputs": [
    {
     "name": "stdout",
     "output_type": "stream",
     "text": [
      "Albert is the winner with 193 points\n"
     ]
    }
   ],
   "source": [
    "players = ['Albert','Roland'] #, 'Amos','Claude']\n",
    "#players = {'Eyal': 'human','Roland':'bot', 'Amos':'bot','Claude':'bot'}\n",
    "end_game_score = 200\n",
    "\n",
    "do_stats = False\n",
    "play_jokers = True\n",
    "seed = 1\n",
    "\n",
    "verbose = 0\n",
    "game_ = game.Game(players, seed=seed, verbose=verbose, end_game_score=end_game_score, \n",
    "                  do_stats=do_stats, play_jokers=play_jokers)\n",
    "game_output = game_.play()"
   ]
  },
  {
   "cell_type": "code",
   "execution_count": 27,
   "metadata": {
    "ExecuteTime": {
     "end_time": "2020-02-20T15:12:20.894150Z",
     "start_time": "2020-02-20T15:12:20.794936Z"
    },
    "hidden": true
   },
   "outputs": [
    {
     "name": "stdout",
     "output_type": "stream",
     "text": [
      "Albert is the winner with 193 points\n"
     ]
    }
   ],
   "source": [
    "players = ['Albert','Roland'] #, 'Amos','Claude']\n",
    "#players = {'Eyal': 'human','Roland':'bot', 'Amos':'bot','Claude':'bot'}\n",
    "end_game_score = 200\n",
    "\n",
    "do_stats = False\n",
    "play_jokers = True\n",
    "seed = 1\n",
    "\n",
    "verbose = 0\n",
    "game_ = game.Game(players, seed=seed, verbose=verbose, end_game_score=end_game_score, \n",
    "                  do_stats=do_stats, play_jokers=play_jokers)\n",
    "game_output = game_.play()"
   ]
  },
  {
   "cell_type": "code",
   "execution_count": 28,
   "metadata": {
    "ExecuteTime": {
     "end_time": "2020-02-20T15:12:21.761721Z",
     "start_time": "2020-02-20T15:12:21.412112Z"
    },
    "hidden": true
   },
   "outputs": [
    {
     "data": {
      "image/png": "[encoded data removed]",
      "text/plain": [
       "<Figure size 432x288 with 1 Axes>"
      ]
     },
     "metadata": {
      "needs_background": "light"
     },
     "output_type": "display_data"
    }
   ],
   "source": [
    "plot_game_turns_per_round(game_output, plot_type='series')"
   ]
  },
  {
   "cell_type": "code",
   "execution_count": 29,
   "metadata": {
    "ExecuteTime": {
     "end_time": "2020-02-20T15:12:24.049744Z",
     "start_time": "2020-02-20T15:12:23.738276Z"
    },
    "hidden": true
   },
   "outputs": [
    {
     "data": {
      "image/png": "[encoded data removed]",
      "text/plain": [
       "<Figure size 432x288 with 1 Axes>"
      ]
     },
     "metadata": {
      "needs_background": "light"
     },
     "output_type": "display_data"
    }
   ],
   "source": [
    "plot_game_turns_per_round(game_output,plot_type='histogram')"
   ]
  },
  {
   "cell_type": "code",
   "execution_count": 31,
   "metadata": {
    "ExecuteTime": {
     "end_time": "2020-02-20T15:12:43.169705Z",
     "start_time": "2020-02-20T15:12:43.097784Z"
    },
    "hidden": true
   },
   "outputs": [
    {
     "data": {
      "text/html": [
       "<div>\n",
       "<style scoped>\n",
       "    .dataframe tbody tr th:only-of-type {\n",
       "        vertical-align: middle;\n",
       "    }\n",
       "\n",
       "    .dataframe tbody tr th {\n",
       "        vertical-align: top;\n",
       "    }\n",
       "\n",
       "    .dataframe thead th {\n",
       "        text-align: right;\n",
       "    }\n",
       "</style>\n",
       "<table border=\"1\" class=\"dataframe\">\n",
       "  <thead>\n",
       "    <tr style=\"text-align: right;\">\n",
       "      <th></th>\n",
       "      <th>Albert_cards</th>\n",
       "      <th>Albert_ncards</th>\n",
       "      <th>Roland_cards</th>\n",
       "      <th>Roland_ncards</th>\n",
       "      <th>name</th>\n",
       "      <th>pile_top_accessible</th>\n",
       "      <th>pull_source</th>\n",
       "      <th>pulls</th>\n",
       "      <th>throws</th>\n",
       "      <th>yaniv_call</th>\n",
       "    </tr>\n",
       "  </thead>\n",
       "  <tbody>\n",
       "    <tr>\n",
       "      <th>1</th>\n",
       "      <td>[3c, 2s, 10h, 3s, Qs]</td>\n",
       "      <td>5</td>\n",
       "      <td>[8s, Kh, 8h, 6s, 2d]</td>\n",
       "      <td>5</td>\n",
       "      <td>Albert</td>\n",
       "      <td>[Ks]</td>\n",
       "      <td>deck</td>\n",
       "      <td>5d</td>\n",
       "      <td>[10h]</td>\n",
       "      <td>NaN</td>\n",
       "    </tr>\n",
       "    <tr>\n",
       "      <th>2</th>\n",
       "      <td>[3c, 2s, 3s, Qs, 5d]</td>\n",
       "      <td>5</td>\n",
       "      <td>[8s, Kh, 8h, 6s, 2d]</td>\n",
       "      <td>5</td>\n",
       "      <td>Roland</td>\n",
       "      <td>[10h]</td>\n",
       "      <td>deck</td>\n",
       "      <td>9h</td>\n",
       "      <td>[8s, 8h]</td>\n",
       "      <td>NaN</td>\n",
       "    </tr>\n",
       "    <tr>\n",
       "      <th>3</th>\n",
       "      <td>[3c, 2s, 3s, Qs, 5d]</td>\n",
       "      <td>5</td>\n",
       "      <td>[Kh, 6s, 2d, 9h]</td>\n",
       "      <td>4</td>\n",
       "      <td>Albert</td>\n",
       "      <td>[8s, 8h]</td>\n",
       "      <td>deck</td>\n",
       "      <td>8d</td>\n",
       "      <td>[Qs]</td>\n",
       "      <td>NaN</td>\n",
       "    </tr>\n",
       "    <tr>\n",
       "      <th>4</th>\n",
       "      <td>[3c, 2s, 3s, 5d, 8d]</td>\n",
       "      <td>5</td>\n",
       "      <td>[Kh, 6s, 2d, 9h]</td>\n",
       "      <td>4</td>\n",
       "      <td>Roland</td>\n",
       "      <td>[Qs]</td>\n",
       "      <td>deck</td>\n",
       "      <td>Kc</td>\n",
       "      <td>[Kh]</td>\n",
       "      <td>NaN</td>\n",
       "    </tr>\n",
       "    <tr>\n",
       "      <th>5</th>\n",
       "      <td>[3c, 2s, 3s, 5d, 8d]</td>\n",
       "      <td>5</td>\n",
       "      <td>[6s, 2d, 9h, Kc]</td>\n",
       "      <td>4</td>\n",
       "      <td>Albert</td>\n",
       "      <td>[Kh]</td>\n",
       "      <td>deck</td>\n",
       "      <td>Ac</td>\n",
       "      <td>[8d]</td>\n",
       "      <td>NaN</td>\n",
       "    </tr>\n",
       "    <tr>\n",
       "      <th>6</th>\n",
       "      <td>[3c, 2s, 3s, 5d, Ac]</td>\n",
       "      <td>5</td>\n",
       "      <td>[6s, 2d, 9h, Kc]</td>\n",
       "      <td>4</td>\n",
       "      <td>Roland</td>\n",
       "      <td>[8d]</td>\n",
       "      <td>deck</td>\n",
       "      <td>7h</td>\n",
       "      <td>[Kc]</td>\n",
       "      <td>NaN</td>\n",
       "    </tr>\n",
       "    <tr>\n",
       "      <th>7</th>\n",
       "      <td>[3c, 2s, 3s, 5d, Ac]</td>\n",
       "      <td>5</td>\n",
       "      <td>[6s, 2d, 9h, 7h]</td>\n",
       "      <td>4</td>\n",
       "      <td>Albert</td>\n",
       "      <td>[Kc]</td>\n",
       "      <td>deck</td>\n",
       "      <td>4c</td>\n",
       "      <td>[3c, 3s]</td>\n",
       "      <td>NaN</td>\n",
       "    </tr>\n",
       "    <tr>\n",
       "      <th>8</th>\n",
       "      <td>[2s, 5d, Ac, 4c]</td>\n",
       "      <td>4</td>\n",
       "      <td>[6s, 2d, 9h, 7h]</td>\n",
       "      <td>4</td>\n",
       "      <td>Roland</td>\n",
       "      <td>[3c, 3s]</td>\n",
       "      <td>pile</td>\n",
       "      <td>3c</td>\n",
       "      <td>[9h]</td>\n",
       "      <td>NaN</td>\n",
       "    </tr>\n",
       "    <tr>\n",
       "      <th>9</th>\n",
       "      <td>[2s, 5d, Ac, 4c]</td>\n",
       "      <td>4</td>\n",
       "      <td>[6s, 2d, 7h, 3c]</td>\n",
       "      <td>4</td>\n",
       "      <td>Albert</td>\n",
       "      <td>[9h]</td>\n",
       "      <td>deck</td>\n",
       "      <td>4h</td>\n",
       "      <td>[5d]</td>\n",
       "      <td>NaN</td>\n",
       "    </tr>\n",
       "    <tr>\n",
       "      <th>10</th>\n",
       "      <td>[2s, Ac, 4c, 4h]</td>\n",
       "      <td>4</td>\n",
       "      <td>[6s, 2d, 7h, 3c]</td>\n",
       "      <td>4</td>\n",
       "      <td>Roland</td>\n",
       "      <td>[5d]</td>\n",
       "      <td>deck</td>\n",
       "      <td>6h</td>\n",
       "      <td>[7h]</td>\n",
       "      <td>NaN</td>\n",
       "    </tr>\n",
       "    <tr>\n",
       "      <th>11</th>\n",
       "      <td>[2s, Ac, 4c, 4h]</td>\n",
       "      <td>4</td>\n",
       "      <td>[6s, 2d, 3c, 6h]</td>\n",
       "      <td>4</td>\n",
       "      <td>Albert</td>\n",
       "      <td>[7h]</td>\n",
       "      <td>deck</td>\n",
       "      <td>3h</td>\n",
       "      <td>[4c, 4h]</td>\n",
       "      <td>NaN</td>\n",
       "    </tr>\n",
       "    <tr>\n",
       "      <th>12</th>\n",
       "      <td>[2s, Ac, 3h]</td>\n",
       "      <td>3</td>\n",
       "      <td>[6s, 2d, 3c, 6h]</td>\n",
       "      <td>4</td>\n",
       "      <td>Roland</td>\n",
       "      <td>[4c, 4h]</td>\n",
       "      <td>deck</td>\n",
       "      <td>2h</td>\n",
       "      <td>[6s, 6h]</td>\n",
       "      <td>NaN</td>\n",
       "    </tr>\n",
       "    <tr>\n",
       "      <th>13</th>\n",
       "      <td>[2s, Ac, 3h]</td>\n",
       "      <td>3</td>\n",
       "      <td>[2d, 3c, 2h]</td>\n",
       "      <td>3</td>\n",
       "      <td>Albert</td>\n",
       "      <td>[6s, 6h]</td>\n",
       "      <td>NaN</td>\n",
       "      <td>NaN</td>\n",
       "      <td>NaN</td>\n",
       "      <td>1</td>\n",
       "    </tr>\n",
       "  </tbody>\n",
       "</table>\n",
       "</div>"
      ],
      "text/plain": [
       "             Albert_cards Albert_ncards          Roland_cards Roland_ncards  \\\n",
       "1   [3c, 2s, 10h, 3s, Qs]             5  [8s, Kh, 8h, 6s, 2d]             5   \n",
       "2    [3c, 2s, 3s, Qs, 5d]             5  [8s, Kh, 8h, 6s, 2d]             5   \n",
       "3    [3c, 2s, 3s, Qs, 5d]             5      [Kh, 6s, 2d, 9h]             4   \n",
       "4    [3c, 2s, 3s, 5d, 8d]             5      [Kh, 6s, 2d, 9h]             4   \n",
       "5    [3c, 2s, 3s, 5d, 8d]             5      [6s, 2d, 9h, Kc]             4   \n",
       "6    [3c, 2s, 3s, 5d, Ac]             5      [6s, 2d, 9h, Kc]             4   \n",
       "7    [3c, 2s, 3s, 5d, Ac]             5      [6s, 2d, 9h, 7h]             4   \n",
       "8        [2s, 5d, Ac, 4c]             4      [6s, 2d, 9h, 7h]             4   \n",
       "9        [2s, 5d, Ac, 4c]             4      [6s, 2d, 7h, 3c]             4   \n",
       "10       [2s, Ac, 4c, 4h]             4      [6s, 2d, 7h, 3c]             4   \n",
       "11       [2s, Ac, 4c, 4h]             4      [6s, 2d, 3c, 6h]             4   \n",
       "12           [2s, Ac, 3h]             3      [6s, 2d, 3c, 6h]             4   \n",
       "13           [2s, Ac, 3h]             3          [2d, 3c, 2h]             3   \n",
       "\n",
       "      name pile_top_accessible pull_source pulls    throws yaniv_call  \n",
       "1   Albert                [Ks]        deck    5d     [10h]        NaN  \n",
       "2   Roland               [10h]        deck    9h  [8s, 8h]        NaN  \n",
       "3   Albert            [8s, 8h]        deck    8d      [Qs]        NaN  \n",
       "4   Roland                [Qs]        deck    Kc      [Kh]        NaN  \n",
       "5   Albert                [Kh]        deck    Ac      [8d]        NaN  \n",
       "6   Roland                [8d]        deck    7h      [Kc]        NaN  \n",
       "7   Albert                [Kc]        deck    4c  [3c, 3s]        NaN  \n",
       "8   Roland            [3c, 3s]        pile    3c      [9h]        NaN  \n",
       "9   Albert                [9h]        deck    4h      [5d]        NaN  \n",
       "10  Roland                [5d]        deck    6h      [7h]        NaN  \n",
       "11  Albert                [7h]        deck    3h  [4c, 4h]        NaN  \n",
       "12  Roland            [4c, 4h]        deck    2h  [6s, 6h]        NaN  \n",
       "13  Albert            [6s, 6h]         NaN   NaN       NaN          1  "
      ]
     },
     "execution_count": 31,
     "metadata": {},
     "output_type": "execute_result"
    }
   ],
   "source": [
    "round_ = 1\n",
    "round_output_to_turns_df(game_output[round_])"
   ]
  },
  {
   "cell_type": "code",
   "execution_count": 32,
   "metadata": {
    "ExecuteTime": {
     "end_time": "2020-02-20T15:12:45.189952Z",
     "start_time": "2020-02-20T15:12:45.158164Z"
    },
    "hidden": true,
    "scrolled": true
   },
   "outputs": [
    {
     "data": {
      "text/html": [
       "<div>\n",
       "<style scoped>\n",
       "    .dataframe tbody tr th:only-of-type {\n",
       "        vertical-align: middle;\n",
       "    }\n",
       "\n",
       "    .dataframe tbody tr th {\n",
       "        vertical-align: top;\n",
       "    }\n",
       "\n",
       "    .dataframe thead th {\n",
       "        text-align: right;\n",
       "    }\n",
       "</style>\n",
       "<table border=\"1\" class=\"dataframe\">\n",
       "  <thead>\n",
       "    <tr style=\"text-align: right;\">\n",
       "      <th></th>\n",
       "      <th>Albert</th>\n",
       "      <th>Roland</th>\n",
       "    </tr>\n",
       "  </thead>\n",
       "  <tbody>\n",
       "    <tr>\n",
       "      <th>gained_points</th>\n",
       "      <td>0</td>\n",
       "      <td>7</td>\n",
       "    </tr>\n",
       "    <tr>\n",
       "      <th>points_conclusion</th>\n",
       "      <td>0</td>\n",
       "      <td>7</td>\n",
       "    </tr>\n",
       "  </tbody>\n",
       "</table>\n",
       "</div>"
      ],
      "text/plain": [
       "                   Albert  Roland\n",
       "gained_points           0       7\n",
       "points_conclusion       0       7"
      ]
     },
     "execution_count": 32,
     "metadata": {},
     "output_type": "execute_result"
    }
   ],
   "source": [
    "pd.DataFrame(game_output[round_]['end'])"
   ]
  },
  {
   "cell_type": "code",
   "execution_count": 33,
   "metadata": {
    "ExecuteTime": {
     "end_time": "2020-02-20T15:12:49.018275Z",
     "start_time": "2020-02-20T15:12:48.827078Z"
    },
    "hidden": true
   },
   "outputs": [
    {
     "data": {
      "text/html": [
       "<div>\n",
       "<style scoped>\n",
       "    .dataframe tbody tr th:only-of-type {\n",
       "        vertical-align: middle;\n",
       "    }\n",
       "\n",
       "    .dataframe tbody tr th {\n",
       "        vertical-align: top;\n",
       "    }\n",
       "\n",
       "    .dataframe thead th {\n",
       "        text-align: right;\n",
       "    }\n",
       "</style>\n",
       "<table border=\"1\" class=\"dataframe\">\n",
       "  <thead>\n",
       "    <tr style=\"text-align: right;\">\n",
       "      <th>round</th>\n",
       "      <th>1</th>\n",
       "      <th>6</th>\n",
       "      <th>7</th>\n",
       "      <th>8</th>\n",
       "      <th>9</th>\n",
       "      <th>12</th>\n",
       "      <th>13</th>\n",
       "      <th>14</th>\n",
       "      <th>15</th>\n",
       "      <th>16</th>\n",
       "      <th>18</th>\n",
       "      <th>19</th>\n",
       "      <th>22</th>\n",
       "      <th>23</th>\n",
       "    </tr>\n",
       "    <tr>\n",
       "      <th>turn</th>\n",
       "      <th></th>\n",
       "      <th></th>\n",
       "      <th></th>\n",
       "      <th></th>\n",
       "      <th></th>\n",
       "      <th></th>\n",
       "      <th></th>\n",
       "      <th></th>\n",
       "      <th></th>\n",
       "      <th></th>\n",
       "      <th></th>\n",
       "      <th></th>\n",
       "      <th></th>\n",
       "      <th></th>\n",
       "    </tr>\n",
       "  </thead>\n",
       "  <tbody>\n",
       "    <tr>\n",
       "      <th>9</th>\n",
       "      <td>NaN</td>\n",
       "      <td>NaN</td>\n",
       "      <td>NaN</td>\n",
       "      <td>NaN</td>\n",
       "      <td>NaN</td>\n",
       "      <td>NaN</td>\n",
       "      <td>NaN</td>\n",
       "      <td>NaN</td>\n",
       "      <td>NaN</td>\n",
       "      <td>NaN</td>\n",
       "      <td>NaN</td>\n",
       "      <td>NaN</td>\n",
       "      <td>NaN</td>\n",
       "      <td>0.970638</td>\n",
       "    </tr>\n",
       "    <tr>\n",
       "      <th>12</th>\n",
       "      <td>NaN</td>\n",
       "      <td>0.825036</td>\n",
       "      <td>NaN</td>\n",
       "      <td>NaN</td>\n",
       "      <td>NaN</td>\n",
       "      <td>NaN</td>\n",
       "      <td>NaN</td>\n",
       "      <td>NaN</td>\n",
       "      <td>NaN</td>\n",
       "      <td>NaN</td>\n",
       "      <td>NaN</td>\n",
       "      <td>NaN</td>\n",
       "      <td>NaN</td>\n",
       "      <td>NaN</td>\n",
       "    </tr>\n",
       "    <tr>\n",
       "      <th>13</th>\n",
       "      <td>0.865546</td>\n",
       "      <td>NaN</td>\n",
       "      <td>NaN</td>\n",
       "      <td>NaN</td>\n",
       "      <td>NaN</td>\n",
       "      <td>NaN</td>\n",
       "      <td>NaN</td>\n",
       "      <td>NaN</td>\n",
       "      <td>NaN</td>\n",
       "      <td>NaN</td>\n",
       "      <td>NaN</td>\n",
       "      <td>NaN</td>\n",
       "      <td>NaN</td>\n",
       "      <td>NaN</td>\n",
       "    </tr>\n",
       "    <tr>\n",
       "      <th>18</th>\n",
       "      <td>NaN</td>\n",
       "      <td>NaN</td>\n",
       "      <td>NaN</td>\n",
       "      <td>NaN</td>\n",
       "      <td>NaN</td>\n",
       "      <td>0.990987</td>\n",
       "      <td>NaN</td>\n",
       "      <td>NaN</td>\n",
       "      <td>0.993199</td>\n",
       "      <td>NaN</td>\n",
       "      <td>1.0</td>\n",
       "      <td>NaN</td>\n",
       "      <td>NaN</td>\n",
       "      <td>NaN</td>\n",
       "    </tr>\n",
       "    <tr>\n",
       "      <th>19</th>\n",
       "      <td>NaN</td>\n",
       "      <td>NaN</td>\n",
       "      <td>NaN</td>\n",
       "      <td>0.997555</td>\n",
       "      <td>0.996898</td>\n",
       "      <td>NaN</td>\n",
       "      <td>NaN</td>\n",
       "      <td>NaN</td>\n",
       "      <td>NaN</td>\n",
       "      <td>0.65977</td>\n",
       "      <td>NaN</td>\n",
       "      <td>0.928818</td>\n",
       "      <td>NaN</td>\n",
       "      <td>NaN</td>\n",
       "    </tr>\n",
       "    <tr>\n",
       "      <th>20</th>\n",
       "      <td>NaN</td>\n",
       "      <td>NaN</td>\n",
       "      <td>NaN</td>\n",
       "      <td>NaN</td>\n",
       "      <td>NaN</td>\n",
       "      <td>NaN</td>\n",
       "      <td>0.981348</td>\n",
       "      <td>NaN</td>\n",
       "      <td>NaN</td>\n",
       "      <td>NaN</td>\n",
       "      <td>NaN</td>\n",
       "      <td>NaN</td>\n",
       "      <td>NaN</td>\n",
       "      <td>NaN</td>\n",
       "    </tr>\n",
       "    <tr>\n",
       "      <th>21</th>\n",
       "      <td>NaN</td>\n",
       "      <td>NaN</td>\n",
       "      <td>0.9944</td>\n",
       "      <td>NaN</td>\n",
       "      <td>NaN</td>\n",
       "      <td>NaN</td>\n",
       "      <td>NaN</td>\n",
       "      <td>0.993944</td>\n",
       "      <td>NaN</td>\n",
       "      <td>NaN</td>\n",
       "      <td>NaN</td>\n",
       "      <td>NaN</td>\n",
       "      <td>NaN</td>\n",
       "      <td>NaN</td>\n",
       "    </tr>\n",
       "    <tr>\n",
       "      <th>28</th>\n",
       "      <td>NaN</td>\n",
       "      <td>NaN</td>\n",
       "      <td>NaN</td>\n",
       "      <td>NaN</td>\n",
       "      <td>NaN</td>\n",
       "      <td>NaN</td>\n",
       "      <td>NaN</td>\n",
       "      <td>NaN</td>\n",
       "      <td>NaN</td>\n",
       "      <td>NaN</td>\n",
       "      <td>NaN</td>\n",
       "      <td>NaN</td>\n",
       "      <td>0.908271</td>\n",
       "      <td>NaN</td>\n",
       "    </tr>\n",
       "  </tbody>\n",
       "</table>\n",
       "</div>"
      ],
      "text/plain": [
       "round        1         6       7         8         9         12        13  \\\n",
       "turn                                                                        \n",
       "9           NaN       NaN     NaN       NaN       NaN       NaN       NaN   \n",
       "12          NaN  0.825036     NaN       NaN       NaN       NaN       NaN   \n",
       "13     0.865546       NaN     NaN       NaN       NaN       NaN       NaN   \n",
       "18          NaN       NaN     NaN       NaN       NaN  0.990987       NaN   \n",
       "19          NaN       NaN     NaN  0.997555  0.996898       NaN       NaN   \n",
       "20          NaN       NaN     NaN       NaN       NaN       NaN  0.981348   \n",
       "21          NaN       NaN  0.9944       NaN       NaN       NaN       NaN   \n",
       "28          NaN       NaN     NaN       NaN       NaN       NaN       NaN   \n",
       "\n",
       "round        14        15       16   18        19        22        23  \n",
       "turn                                                                   \n",
       "9           NaN       NaN      NaN  NaN       NaN       NaN  0.970638  \n",
       "12          NaN       NaN      NaN  NaN       NaN       NaN       NaN  \n",
       "13          NaN       NaN      NaN  NaN       NaN       NaN       NaN  \n",
       "18          NaN  0.993199      NaN  1.0       NaN       NaN       NaN  \n",
       "19          NaN       NaN  0.65977  NaN  0.928818       NaN       NaN  \n",
       "20          NaN       NaN      NaN  NaN       NaN       NaN       NaN  \n",
       "21     0.993944       NaN      NaN  NaN       NaN       NaN       NaN  \n",
       "28          NaN       NaN      NaN  NaN       NaN  0.908271       NaN  "
      ]
     },
     "execution_count": 33,
     "metadata": {},
     "output_type": "execute_result"
    }
   ],
   "source": [
    "game_output_to_yaniv_probabilities(game_output, pov_name='Albert')"
   ]
  },
  {
   "cell_type": "code",
   "execution_count": 34,
   "metadata": {
    "ExecuteTime": {
     "end_time": "2020-02-20T15:12:53.920474Z",
     "start_time": "2020-02-20T15:12:53.817994Z"
    },
    "hidden": true
   },
   "outputs": [
    {
     "data": {
      "text/html": [
       "<div>\n",
       "<style scoped>\n",
       "    .dataframe tbody tr th:only-of-type {\n",
       "        vertical-align: middle;\n",
       "    }\n",
       "\n",
       "    .dataframe tbody tr th {\n",
       "        vertical-align: top;\n",
       "    }\n",
       "\n",
       "    .dataframe thead th {\n",
       "        text-align: right;\n",
       "    }\n",
       "</style>\n",
       "<table border=\"1\" class=\"dataframe\">\n",
       "  <thead>\n",
       "    <tr style=\"text-align: right;\">\n",
       "      <th>round</th>\n",
       "      <th>2</th>\n",
       "      <th>3</th>\n",
       "      <th>4</th>\n",
       "      <th>5</th>\n",
       "      <th>10</th>\n",
       "      <th>11</th>\n",
       "      <th>17</th>\n",
       "      <th>20</th>\n",
       "      <th>21</th>\n",
       "    </tr>\n",
       "    <tr>\n",
       "      <th>turn</th>\n",
       "      <th></th>\n",
       "      <th></th>\n",
       "      <th></th>\n",
       "      <th></th>\n",
       "      <th></th>\n",
       "      <th></th>\n",
       "      <th></th>\n",
       "      <th></th>\n",
       "      <th></th>\n",
       "    </tr>\n",
       "  </thead>\n",
       "  <tbody>\n",
       "    <tr>\n",
       "      <th>9</th>\n",
       "      <td>NaN</td>\n",
       "      <td>NaN</td>\n",
       "      <td>NaN</td>\n",
       "      <td>NaN</td>\n",
       "      <td>NaN</td>\n",
       "      <td>0.991684</td>\n",
       "      <td>NaN</td>\n",
       "      <td>NaN</td>\n",
       "      <td>NaN</td>\n",
       "    </tr>\n",
       "    <tr>\n",
       "      <th>13</th>\n",
       "      <td>NaN</td>\n",
       "      <td>NaN</td>\n",
       "      <td>NaN</td>\n",
       "      <td>0.999961</td>\n",
       "      <td>NaN</td>\n",
       "      <td>NaN</td>\n",
       "      <td>NaN</td>\n",
       "      <td>NaN</td>\n",
       "      <td>NaN</td>\n",
       "    </tr>\n",
       "    <tr>\n",
       "      <th>14</th>\n",
       "      <td>NaN</td>\n",
       "      <td>NaN</td>\n",
       "      <td>NaN</td>\n",
       "      <td>NaN</td>\n",
       "      <td>0.999351</td>\n",
       "      <td>NaN</td>\n",
       "      <td>0.998338</td>\n",
       "      <td>0.982119</td>\n",
       "      <td>NaN</td>\n",
       "    </tr>\n",
       "    <tr>\n",
       "      <th>16</th>\n",
       "      <td>0.977941</td>\n",
       "      <td>NaN</td>\n",
       "      <td>NaN</td>\n",
       "      <td>NaN</td>\n",
       "      <td>NaN</td>\n",
       "      <td>NaN</td>\n",
       "      <td>NaN</td>\n",
       "      <td>NaN</td>\n",
       "      <td>NaN</td>\n",
       "    </tr>\n",
       "    <tr>\n",
       "      <th>19</th>\n",
       "      <td>NaN</td>\n",
       "      <td>0.999901</td>\n",
       "      <td>NaN</td>\n",
       "      <td>NaN</td>\n",
       "      <td>NaN</td>\n",
       "      <td>NaN</td>\n",
       "      <td>NaN</td>\n",
       "      <td>NaN</td>\n",
       "      <td>NaN</td>\n",
       "    </tr>\n",
       "    <tr>\n",
       "      <th>20</th>\n",
       "      <td>NaN</td>\n",
       "      <td>NaN</td>\n",
       "      <td>NaN</td>\n",
       "      <td>NaN</td>\n",
       "      <td>NaN</td>\n",
       "      <td>NaN</td>\n",
       "      <td>NaN</td>\n",
       "      <td>NaN</td>\n",
       "      <td>0.990358</td>\n",
       "    </tr>\n",
       "    <tr>\n",
       "      <th>21</th>\n",
       "      <td>NaN</td>\n",
       "      <td>NaN</td>\n",
       "      <td>0.912137</td>\n",
       "      <td>NaN</td>\n",
       "      <td>NaN</td>\n",
       "      <td>NaN</td>\n",
       "      <td>NaN</td>\n",
       "      <td>NaN</td>\n",
       "      <td>NaN</td>\n",
       "    </tr>\n",
       "  </tbody>\n",
       "</table>\n",
       "</div>"
      ],
      "text/plain": [
       "round        2         3         4         5         10        11        17  \\\n",
       "turn                                                                          \n",
       "9           NaN       NaN       NaN       NaN       NaN  0.991684       NaN   \n",
       "13          NaN       NaN       NaN  0.999961       NaN       NaN       NaN   \n",
       "14          NaN       NaN       NaN       NaN  0.999351       NaN  0.998338   \n",
       "16     0.977941       NaN       NaN       NaN       NaN       NaN       NaN   \n",
       "19          NaN  0.999901       NaN       NaN       NaN       NaN       NaN   \n",
       "20          NaN       NaN       NaN       NaN       NaN       NaN       NaN   \n",
       "21          NaN       NaN  0.912137       NaN       NaN       NaN       NaN   \n",
       "\n",
       "round        20        21  \n",
       "turn                       \n",
       "9           NaN       NaN  \n",
       "13          NaN       NaN  \n",
       "14     0.982119       NaN  \n",
       "16          NaN       NaN  \n",
       "19          NaN       NaN  \n",
       "20          NaN  0.990358  \n",
       "21          NaN       NaN  "
      ]
     },
     "execution_count": 34,
     "metadata": {},
     "output_type": "execute_result"
    }
   ],
   "source": [
    "game_output_to_yaniv_probabilities(game_output, pov_name='Roland')"
   ]
  },
  {
   "cell_type": "code",
   "execution_count": 46,
   "metadata": {
    "ExecuteTime": {
     "end_time": "2020-02-20T15:15:17.272799Z",
     "start_time": "2020-02-20T15:15:17.245184Z"
    },
    "hidden": true
   },
   "outputs": [
    {
     "data": {
      "text/plain": [
       "52"
      ]
     },
     "execution_count": 46,
     "metadata": {},
     "output_type": "execute_result"
    }
   ],
   "source": [
    "len(game_output[1]['start']['deck_ordered'])"
   ]
  },
  {
   "cell_type": "markdown",
   "metadata": {
    "heading_collapsed": true
   },
   "source": [
    "# Multiple Games"
   ]
  },
  {
   "cell_type": "code",
   "execution_count": 35,
   "metadata": {
    "ExecuteTime": {
     "end_time": "2020-02-20T15:13:11.752607Z",
     "start_time": "2020-02-20T15:13:11.728963Z"
    },
    "hidden": true
   },
   "outputs": [],
   "source": [
    "import os\n",
    "from glob import glob\n",
    "import json\n",
    "\n",
    "from summarise_game import game_output_keys_to_int"
   ]
  },
  {
   "cell_type": "code",
   "execution_count": 36,
   "metadata": {
    "ExecuteTime": {
     "end_time": "2020-02-20T15:13:30.570367Z",
     "start_time": "2020-02-20T15:13:30.545661Z"
    },
    "hidden": true
   },
   "outputs": [
    {
     "data": {
      "text/plain": [
       "'../data/games/test_2players_conditioned/'"
      ]
     },
     "execution_count": 36,
     "metadata": {},
     "output_type": "execute_result"
    }
   ],
   "source": [
    "GAMES_DATA_PATH = f'{os.pardir}/data/games/test_2players_conditioned/'\n",
    "GAMES_DATA_PATH"
   ]
  },
  {
   "cell_type": "code",
   "execution_count": 37,
   "metadata": {
    "ExecuteTime": {
     "end_time": "2020-02-20T15:13:32.426372Z",
     "start_time": "2020-02-20T15:13:32.021082Z"
    },
    "hidden": true
   },
   "outputs": [
    {
     "name": "stdout",
     "output_type": "stream",
     "text": [
      "Roland is the winner with 114 points\n",
      "../data/games/test_2players_conditioned/004.json\n",
      "Roland is the winner with 114 points\n",
      "../data/games/test_2players_conditioned/005.json\n",
      "Roland is the winner with 141 points\n",
      "../data/games/test_2players_conditioned/006.json\n",
      "Roland is the winner with 133 points\n",
      "../data/games/test_2players_conditioned/007.json\n"
     ]
    }
   ],
   "source": [
    "n_games = 4\n",
    "do_stats = False\n",
    "play_jokers = False\n",
    "# ===========\n",
    "# Defining index of first game\n",
    "game_files = glob(f'{GAMES_DATA_PATH}*.json')\n",
    "\n",
    "if game_files:\n",
    "    idx_last = np.max(list(map(lambda x: int(x.split('/')[-1].split('.json')[0]), game_files)))\n",
    "else:\n",
    "    idx_last = -1\n",
    "# ----------\n",
    "\n",
    "verbose = 0\n",
    "\n",
    "for idx in range(idx_last + 1, idx_last + 1 + n_games):\n",
    "    game_ = game.Game(players, seed=idx, verbose=verbose, end_game_score=end_game_score, \n",
    "                      do_stats=do_stats, play_jokers=play_jokers)\n",
    "    \n",
    "    game_output = game_.play()\n",
    "    \n",
    "    game_path = f'{GAMES_DATA_PATH}{idx:003.0f}.json'\n",
    "    print(game_path)\n",
    "    with open(game_path, 'w') as fp:\n",
    "        json.dump(game_output, fp)"
   ]
  },
  {
   "cell_type": "code",
   "execution_count": 38,
   "metadata": {
    "ExecuteTime": {
     "end_time": "2020-02-20T15:13:36.798268Z",
     "start_time": "2020-02-20T15:13:36.734953Z"
    },
    "hidden": true
   },
   "outputs": [
    {
     "name": "stdout",
     "output_type": "stream",
     "text": [
      "8\n"
     ]
    }
   ],
   "source": [
    "game_files = glob(f'{GAMES_DATA_PATH}*.json')\n",
    "\n",
    "l_game_outputs = []\n",
    "\n",
    "for game_file in game_files:\n",
    "    with open(game_file) as fp:\n",
    "        game_output = json.load(fp)\n",
    "        \n",
    "    game_output = game_output_keys_to_int(game_output)\n",
    "    \n",
    "    l_game_outputs.append(game_output)\n",
    "    \n",
    "print(len(l_game_outputs))"
   ]
  },
  {
   "cell_type": "code",
   "execution_count": 39,
   "metadata": {
    "ExecuteTime": {
     "end_time": "2020-02-20T15:13:38.722377Z",
     "start_time": "2020-02-20T15:13:38.672127Z"
    },
    "hidden": true
   },
   "outputs": [
    {
     "data": {
      "text/html": [
       "<div>\n",
       "<style scoped>\n",
       "    .dataframe tbody tr th:only-of-type {\n",
       "        vertical-align: middle;\n",
       "    }\n",
       "\n",
       "    .dataframe tbody tr th {\n",
       "        vertical-align: top;\n",
       "    }\n",
       "\n",
       "    .dataframe thead th {\n",
       "        text-align: right;\n",
       "    }\n",
       "</style>\n",
       "<table border=\"1\" class=\"dataframe\">\n",
       "  <thead>\n",
       "    <tr style=\"text-align: right;\">\n",
       "      <th></th>\n",
       "      <th>Albert_cards</th>\n",
       "      <th>Albert_ncards</th>\n",
       "      <th>Roland_cards</th>\n",
       "      <th>Roland_ncards</th>\n",
       "      <th>name</th>\n",
       "      <th>pile_top_accessible</th>\n",
       "      <th>pull_source</th>\n",
       "      <th>pulls</th>\n",
       "      <th>throws</th>\n",
       "      <th>yaniv_call</th>\n",
       "    </tr>\n",
       "  </thead>\n",
       "  <tbody>\n",
       "    <tr>\n",
       "      <th>1</th>\n",
       "      <td>[10c, 5s, 8c, Ac, 3h]</td>\n",
       "      <td>5</td>\n",
       "      <td>[10s, 10d, Jh, Kc, 2h]</td>\n",
       "      <td>5</td>\n",
       "      <td>Roland</td>\n",
       "      <td>[8h]</td>\n",
       "      <td>deck</td>\n",
       "      <td>Qs</td>\n",
       "      <td>[10s, 10d]</td>\n",
       "      <td>NaN</td>\n",
       "    </tr>\n",
       "    <tr>\n",
       "      <th>2</th>\n",
       "      <td>[10c, 5s, 8c, Ac, 3h]</td>\n",
       "      <td>5</td>\n",
       "      <td>[Jh, Kc, 2h, Qs]</td>\n",
       "      <td>4</td>\n",
       "      <td>Albert</td>\n",
       "      <td>[10s, 10d]</td>\n",
       "      <td>deck</td>\n",
       "      <td>3d</td>\n",
       "      <td>[10c]</td>\n",
       "      <td>NaN</td>\n",
       "    </tr>\n",
       "    <tr>\n",
       "      <th>3</th>\n",
       "      <td>[5s, 8c, Ac, 3h, 3d]</td>\n",
       "      <td>5</td>\n",
       "      <td>[Jh, Kc, 2h, Qs]</td>\n",
       "      <td>4</td>\n",
       "      <td>Roland</td>\n",
       "      <td>[10c]</td>\n",
       "      <td>deck</td>\n",
       "      <td>6h</td>\n",
       "      <td>[Jh]</td>\n",
       "      <td>NaN</td>\n",
       "    </tr>\n",
       "    <tr>\n",
       "      <th>4</th>\n",
       "      <td>[5s, 8c, Ac, 3h, 3d]</td>\n",
       "      <td>5</td>\n",
       "      <td>[Kc, 2h, Qs, 6h]</td>\n",
       "      <td>4</td>\n",
       "      <td>Albert</td>\n",
       "      <td>[Jh]</td>\n",
       "      <td>deck</td>\n",
       "      <td>6c</td>\n",
       "      <td>[8c]</td>\n",
       "      <td>NaN</td>\n",
       "    </tr>\n",
       "    <tr>\n",
       "      <th>5</th>\n",
       "      <td>[5s, Ac, 3h, 3d, 6c]</td>\n",
       "      <td>5</td>\n",
       "      <td>[Kc, 2h, Qs, 6h]</td>\n",
       "      <td>4</td>\n",
       "      <td>Roland</td>\n",
       "      <td>[8c]</td>\n",
       "      <td>deck</td>\n",
       "      <td>Qd</td>\n",
       "      <td>[Kc]</td>\n",
       "      <td>NaN</td>\n",
       "    </tr>\n",
       "  </tbody>\n",
       "</table>\n",
       "</div>"
      ],
      "text/plain": [
       "            Albert_cards Albert_ncards            Roland_cards Roland_ncards  \\\n",
       "1  [10c, 5s, 8c, Ac, 3h]             5  [10s, 10d, Jh, Kc, 2h]             5   \n",
       "2  [10c, 5s, 8c, Ac, 3h]             5        [Jh, Kc, 2h, Qs]             4   \n",
       "3   [5s, 8c, Ac, 3h, 3d]             5        [Jh, Kc, 2h, Qs]             4   \n",
       "4   [5s, 8c, Ac, 3h, 3d]             5        [Kc, 2h, Qs, 6h]             4   \n",
       "5   [5s, Ac, 3h, 3d, 6c]             5        [Kc, 2h, Qs, 6h]             4   \n",
       "\n",
       "     name pile_top_accessible pull_source pulls      throws yaniv_call  \n",
       "1  Roland                [8h]        deck    Qs  [10s, 10d]        NaN  \n",
       "2  Albert          [10s, 10d]        deck    3d       [10c]        NaN  \n",
       "3  Roland               [10c]        deck    6h        [Jh]        NaN  \n",
       "4  Albert                [Jh]        deck    6c        [8c]        NaN  \n",
       "5  Roland                [8c]        deck    Qd        [Kc]        NaN  "
      ]
     },
     "execution_count": 39,
     "metadata": {},
     "output_type": "execute_result"
    }
   ],
   "source": [
    "game_id = 0\n",
    "round_ = 3\n",
    "round_output_to_turns_df(l_game_outputs[game_id][round_]).head(5)"
   ]
  }
 ],
 "metadata": {
  "kernelspec": {
   "display_name": "Python 3",
   "language": "python",
   "name": "python3"
  },
  "language_info": {
   "codemirror_mode": {
    "name": "ipython",
    "version": 3
   },
   "file_extension": ".py",
   "mimetype": "text/x-python",
   "name": "python",
   "nbconvert_exporter": "python",
   "pygments_lexer": "ipython3",
   "version": "3.7.3"
  },
  "toc": {
   "colors": {
    "hover_highlight": "#DAA520",
    "running_highlight": "#FF0000",
    "selected_highlight": "#FFD700"
   },
   "moveMenuLeft": true,
   "nav_menu": {
    "height": "102.898px",
    "width": "251.989px"
   },
   "navigate_menu": true,
   "number_sections": true,
   "sideBar": true,
   "threshold": 4,
   "toc_cell": false,
   "toc_section_display": "block",
   "toc_window_display": true,
   "widenNotebook": false
  }
 },
 "nbformat": 4,
 "nbformat_minor": 2
}
